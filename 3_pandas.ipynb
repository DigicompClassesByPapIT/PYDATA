{
 "cells": [
  {
   "cell_type": "markdown",
   "metadata": {
    "id": "PzfrDMlyq-wz"
   },
   "source": [
    "\n",
    "# Data Manipulation"
   ]
  },
  {
   "cell_type": "markdown",
   "metadata": {
    "ExecuteTime": {
     "end_time": "2021-12-05T16:37:06.178741Z",
     "start_time": "2021-12-05T16:37:06.176129Z"
    },
    "id": "-rIeyaeKq-w6"
   },
   "source": [
    "## Dataset\n",
    "\n",
    "Dans ce TP, nous allons manipuler un dataset de commandes passées dans des restaurants d'une même chaîne. Le dataset contient des informations sur les commandes, les restaurants, les clients, les dates, les serveurs, *etc*."
   ]
  },
  {
   "cell_type": "markdown",
   "source": "1. Charger le fichier `tiller-order.csv` dans un DataFrame nommé `df_orders`",
   "metadata": {
    "id": "Lzyd8dZbvydc"
   }
  },
  {
   "cell_type": "code",
   "metadata": {
    "id": "ZaHu4Fpaq-w7"
   },
   "source": "",
   "outputs": [],
   "execution_count": null
  },
  {
   "cell_type": "markdown",
   "source": [
    "### Découverte des données"
   ],
   "metadata": {
    "id": "-byI3-Jav7q2"
   }
  },
  {
   "cell_type": "markdown",
   "metadata": {
    "id": "1xYj9nYEq-w8"
   },
   "source": "2. Afficher les 5 premières lignes de ce dataframe"
  },
  {
   "cell_type": "code",
   "metadata": {
    "id": "wbhmoMRBq-w9"
   },
   "source": "",
   "outputs": [],
   "execution_count": null
  },
  {
   "cell_type": "markdown",
   "metadata": {
    "id": "byZru-wbq-w-"
   },
   "source": "3. Que représente une ligne de ce dataframe ? Quelles informations pouvez-vous trouver ?"
  },
  {
   "cell_type": "markdown",
   "source": "Les commandes d'une chaîne de restaurants. On y trouve des informations sur les commandes, les restaurants, les clients, les dates, les serveurs, *etc*.",
   "metadata": {
    "collapsed": false
   }
  },
  {
   "cell_type": "markdown",
   "metadata": {
    "id": "QLR4nAIXq-xB"
   },
   "source": "4. Combien y-a-t'il de commandes dans ce dataframe ? Combien de colonnes ?"
  },
  {
   "cell_type": "code",
   "source": "",
   "metadata": {
    "collapsed": false
   },
   "outputs": [],
   "execution_count": null
  },
  {
   "cell_type": "markdown",
   "source": [
    "#### Sélection de colonnes"
   ],
   "metadata": {
    "id": "xk3s55atwdXV"
   }
  },
  {
   "cell_type": "markdown",
   "source": "5. Sélectionner seulement les colonnes `id_order`, `id_store`, `date_opened` et `date_closed` de ce DataFrame et sauvegarder le résultat dans une variable `df_sub`",
   "metadata": {
    "id": "CWG8_seHwk4M"
   }
  },
  {
   "cell_type": "code",
   "source": "",
   "metadata": {
    "id": "HJmlPYcnCgDY"
   },
   "outputs": [],
   "execution_count": null
  },
  {
   "cell_type": "markdown",
   "source": [
    "#### Sélection de lignes"
   ],
   "metadata": {
    "id": "moHGtUkA3yTW"
   }
  },
  {
   "cell_type": "markdown",
   "source": "6. Filtrer `df_sub` seulement sur les lignes concernant l'`id_store` 4542. Combien y-a-t'il eu de commandes dans ce restaurant ?",
   "metadata": {
    "id": "1-8pAbAmDW_y"
   }
  },
  {
   "cell_type": "code",
   "source": "",
   "metadata": {
    "id": "LRg_wbkFDjPg"
   },
   "outputs": [],
   "execution_count": null
  },
  {
   "cell_type": "markdown",
   "source": [
    "### Analyse de données"
   ],
   "metadata": {
    "id": "XZwdhQ28EFU5"
   }
  },
  {
   "cell_type": "markdown",
   "source": "7. En reprenant le DataFrame initial, quels sont les différents statuts possibles d'une commande ? Combien de commandes y-a-t'il par statut ?",
   "metadata": {
    "id": "7PFtvyCYuy0P"
   }
  },
  {
   "cell_type": "code",
   "source": "",
   "metadata": {
    "id": "oaUCabqUuyVS"
   },
   "outputs": [],
   "execution_count": null
  },
  {
   "cell_type": "markdown",
   "source": "8. Quelle est la proportion des commandes dont le status est CLOSE ?",
   "metadata": {
    "id": "DspKznXmuDuZ"
   }
  },
  {
   "cell_type": "code",
   "source": "",
   "metadata": {
    "id": "nKRY5m8kuEFS"
   },
   "outputs": [],
   "execution_count": null
  },
  {
   "cell_type": "markdown",
   "source": "9. Combien y a-t-il de restaurants dans ces données ? Quels sont leurs `id_store` ?",
   "metadata": {
    "id": "DRcKAeUstPq9"
   }
  },
  {
   "cell_type": "code",
   "source": "",
   "metadata": {
    "id": "L_An80n8s_T9"
   },
   "outputs": [],
   "execution_count": null
  },
  {
   "cell_type": "markdown",
   "source": "10. Calculer le chiffre d'affaires par restaurant. Quel restaurant a le chiffre d'affaires le plus élevé ?",
   "metadata": {
    "id": "z1AA_gEsGblP"
   }
  },
  {
   "cell_type": "code",
   "source": "",
   "metadata": {
    "id": "YmsHXRrJHAJx"
   },
   "outputs": [],
   "execution_count": null
  },
  {
   "cell_type": "markdown",
   "source": [
    "11. Compter le nombre de commandes par restaurant. Quel restaurant a eu le plus de commandes dans ces données ? Est-ce le même que celui qui a le chiffre d'affaires le plus élevé ?\n",
    "\n"
   ],
   "metadata": {
    "id": "sLA7m7Rft12b"
   }
  },
  {
   "cell_type": "code",
   "source": "",
   "metadata": {
    "id": "ryZBJEV5E6jO"
   },
   "outputs": [],
   "execution_count": null
  },
  {
   "cell_type": "markdown",
   "source": "12. Calculer le prix moyen d'une commande pour chaque restaurant. Pensez-vous que vous êtes face aux mêmes types de restaurants ?",
   "metadata": {
    "id": "MciEHryJHgZT"
   }
  },
  {
   "cell_type": "code",
   "source": "",
   "metadata": {
    "id": "xQPxmRRMHf7b"
   },
   "outputs": [],
   "execution_count": null
  },
  {
   "cell_type": "markdown",
   "source": [
    "13. Le problème est qu'une commande peut être passée pour plusieurs personnes. On souhaite plutôt connaître le prix dépensé en moyenne par une personne dans le restaurant.\n",
    "\n",
    "À partir du dataframe initial, ajouter une colonne représentant le prix de la commande par client."
   ],
   "metadata": {
    "id": "AO8vSsMQLFvL"
   }
  },
  {
   "cell_type": "code",
   "source": "",
   "metadata": {
    "id": "uuafguQgLBsb"
   },
   "outputs": [],
   "execution_count": null
  },
  {
   "cell_type": "markdown",
   "source": "13. En utilisant la colonne précédente, calculer le prix moyen dépensé par chaque personne dans chacun des restaurants.",
   "metadata": {
    "id": "qelSfFgsNBmB"
   }
  },
  {
   "cell_type": "code",
   "source": "",
   "metadata": {
    "id": "FDmNUDEANfKr"
   },
   "outputs": [],
   "execution_count": null
  },
  {
   "cell_type": "markdown",
   "source": [
    "14. Il semblerait qu'il y ait des problèmes de données, car pour certains restaurants le prix moyen est `inf` ...\n",
    "\n",
    "Avez-vous une idée du pourquoi ?\n",
    "\n",
    "Modifier les incohérences dans le dataset en remplaçant les valeurs à 0 de la colonne `m_nb_customer` par 1 puis supprimer les lignes dont la colonne `m_cached_price` est à 0"
   ],
   "metadata": {
    "id": "BMspTKGpPgB6"
   }
  },
  {
   "cell_type": "code",
   "source": "",
   "metadata": {
    "id": "0Abq1T50PQjQ"
   },
   "outputs": [],
   "execution_count": null
  },
  {
   "cell_type": "markdown",
   "source": "15. Recalculer la colonne `price_per_customer` et le prix moyen dépensé par chaque personne d'un restaurant.",
   "metadata": {
    "id": "qYKGt6GlRQ_m"
   }
  },
  {
   "cell_type": "code",
   "source": "",
   "metadata": {
    "id": "oLQY0R__OhkA"
   },
   "outputs": [],
   "execution_count": null
  },
  {
   "cell_type": "markdown",
   "source": [
    "### Analyse temporelle"
   ],
   "metadata": {
    "id": "rPpEDlRQR0dP"
   }
  },
  {
   "cell_type": "markdown",
   "source": [
    "Le restaurant 7965 a un prix par personne plus élevé que le reste. Regardons le temps passé à table pour savoir si celui-ci peut correspondre à un grand restaurant."
   ],
   "metadata": {
    "id": "gtgNDxu-Sk04"
   }
  },
  {
   "cell_type": "markdown",
   "source": "16. *Caster* les colonnes date_opened et date_closed en format datetime",
   "metadata": {
    "id": "0XiLTXG0S1zt"
   }
  },
  {
   "cell_type": "code",
   "source": "",
   "metadata": {
    "id": "vr_lHtn2SzXW"
   },
   "outputs": [],
   "execution_count": null
  },
  {
   "cell_type": "markdown",
   "metadata": {
    "id": "n9ZCQJscq-xI"
   },
   "source": "17. Exécuter le code ci-dessous pour calculer le temps passé entre la date d'ouverture et fermeture d'une commande en minutes."
  },
  {
   "cell_type": "code",
   "metadata": {
    "id": "HUNn5MUnq-xI"
   },
   "source": "",
   "outputs": [],
   "execution_count": null
  },
  {
   "cell_type": "markdown",
   "source": "18. Calculer le temps moyen à table pour chacun des restaurants.",
   "metadata": {
    "id": "J7rOdfqHUa1W"
   }
  },
  {
   "cell_type": "code",
   "metadata": {
    "id": "cCj4sDxyq-xJ"
   },
   "source": "",
   "outputs": [],
   "execution_count": null
  },
  {
   "cell_type": "markdown",
   "source": [
    "Il semblerait qu'il n'y ait pas des restaurants de type restauration rapide ! Les durées de commandes ouvertes sont relativement courtes."
   ],
   "metadata": {
    "id": "82pz9YvrU1Rj"
   }
  },
  {
   "cell_type": "markdown",
   "source": [
    "### Opérations de jointures"
   ],
   "metadata": {
    "id": "vVyGwdcmWfgA"
   }
  },
  {
   "cell_type": "markdown",
   "metadata": {
    "ExecuteTime": {
     "end_time": "2021-12-05T16:57:15.668667Z",
     "start_time": "2021-12-05T16:57:15.666267Z"
    },
    "id": "6kN9eSVgq-xG"
   },
   "source": "19. Télécharger les données de `tiller-order-line.xlsx`. Charger les avec Pandas."
  },
  {
   "cell_type": "code",
   "metadata": {
    "id": "-LeTQt0lq-xG"
   },
   "source": "",
   "outputs": [],
   "execution_count": null
  },
  {
   "cell_type": "markdown",
   "metadata": {
    "id": "1iQwsa6hq-xG"
   },
   "source": "20. À quelles nouvelles informations avez-vous accès grâce à ces données ?"
  },
  {
   "metadata": {},
   "cell_type": "markdown",
   "source": "Les lignes de dé&tail de chaque commande, les items commandés, les quantités, les prix unitaires, etc."
  },
  {
   "cell_type": "markdown",
   "metadata": {
    "id": "OYsG4N6Lq-xH"
   },
   "source": "21. Fusionner les deux dataset sur la colonne `id_order` pour obtenir un DataFrame contenant les informations des commandes et des lignes de commande. Sauvegarder le résultat dans une variable `df_order_detail`."
  },
  {
   "cell_type": "code",
   "metadata": {
    "id": "EQkdLlUMq-xH"
   },
   "source": "",
   "outputs": [],
   "execution_count": null
  },
  {
   "cell_type": "markdown",
   "source": [
    "22. Prenons le restaurant 1796. Son temps moyen de commande était très court.\n",
    "\n",
    "Afficher les items les plus commandés dans ce restaurant."
   ],
   "metadata": {
    "id": "ADA46_E1YZe_"
   }
  },
  {
   "cell_type": "code",
   "metadata": {
    "id": "ggr_eaelq-xI"
   },
   "source": "",
   "outputs": [],
   "execution_count": null
  },
  {
   "cell_type": "markdown",
   "source": [
    "S'agit-il d'un restaurant rapide du midi selon vous ?"
   ],
   "metadata": {
    "id": "izDqbWd0fJRQ"
   }
  },
  {
   "metadata": {},
   "cell_type": "markdown",
   "source": ""
  },
  {
   "cell_type": "markdown",
   "metadata": {
    "id": "80p-fNR2q-xK"
   },
   "source": "### Nettoyage de données\n"
  },
  {
   "cell_type": "markdown",
   "source": "23. On voit que certains types ne sont pas cohérents. Trouvez-en un exemple et corrigez-le.",
   "metadata": {
    "id": "wZW09zlyY1so"
   }
  },
  {
   "cell_type": "code",
   "metadata": {
    "id": "1bpsik02q-xK"
   },
   "source": "",
   "outputs": [],
   "execution_count": null
  },
  {
   "cell_type": "markdown",
   "metadata": {
    "id": "ldL-Z5K9q-xK"
   },
   "source": "24. Sauvegarder le dataframe `df_order` dans un fichier parquet nommé `df_order.parquet`."
  },
  {
   "cell_type": "code",
   "metadata": {
    "id": "E0n4GoN_q-xL"
   },
   "source": "",
   "outputs": [],
   "execution_count": null
  },
  {
   "metadata": {},
   "cell_type": "markdown",
   "source": [
    "## Pandas et SQL\n",
    "\n",
    "Pandas peut lire et écrire des données dans une base de données SQL. Cela permet de manipuler des données stockées dans une base de données relationnelle avec la syntaxe Pandas et en extraire des Dataframes.\n",
    "\n",
    "25. Lancer un serveur MySQL dans un conteneur Docker avec le mot de passe `motdepasse` pour l'utilisateur root. Le port 3307 doit être exposé et libre."
   ]
  },
  {
   "metadata": {},
   "cell_type": "code",
   "source": "!docker run --name mysql-pydata -e MYSQL_ROOT_PASSWORD=motdepasse -p 3307:3306 -d mysql:latest",
   "outputs": [],
   "execution_count": null
  },
  {
   "metadata": {},
   "cell_type": "markdown",
   "source": "26. Installer le connecteur MySQL pour Python et SQLAlchemy"
  },
  {
   "metadata": {},
   "cell_type": "code",
   "source": "!pip install mysql-connector-python sqlalchemy",
   "outputs": [],
   "execution_count": null
  },
  {
   "metadata": {},
   "cell_type": "markdown",
   "source": [
    "27. Le restaurant 7965 fais de la BI (PowerBi, Web, Cognos, *etc*) à partir d'une base SQL. Ils souhaitent avoir deux tables à partir des datasets précédents:\n",
    "- Une table `orders` contenant les informations des commandes, avec les colonnes `id_order`, `id_store`, `date_opened`, `date_closed`, `dim_status`, `m_cached_payed`\n",
    "- Une table `order_lines` contenant les informations des lignes de commande, avec les colonnes `id_order`, `dim_name`, `m_cached_price`\n",
    "\n",
    "Écrire le code qui permet de créer ces deux tables dans la base de données MySQL `tiller `et y insérer les données à partir du ou des DataFrames.\n",
    "Faire attention aux types de données, notamment pour les dates et les nombres.\n",
    "\n",
    "Voir la documentation correspondante dans Pandas : https://pandas.pydata.org/docs/reference/api/pandas.DataFrame.to_sql.html"
   ]
  },
  {
   "metadata": {},
   "cell_type": "code",
   "source": "",
   "outputs": [],
   "execution_count": null
  },
  {
   "metadata": {},
   "cell_type": "markdown",
   "source": "28. Pandas permet également de lire des données depuis une base de données SQL et de retourner ces donées dans un DataFrame. Vérifier l'insertion en base des données dans les tables `orders` et `order_lines` de la base de données `tiller` en les retournant dans des DataFrames nommés `df_7965_orders_from_sql` et `df_7965_order_lines_from_sql`."
  },
  {
   "metadata": {},
   "cell_type": "code",
   "source": "",
   "outputs": [],
   "execution_count": null
  },
  {
   "metadata": {},
   "cell_type": "markdown",
   "source": "29. Générer un rapport d'analyse exploratoire des données à partir du DataFrame `df_orders` en utilisant la librairie `ydata-profiling`."
  }
 ],
 "metadata": {
  "kernelspec": {
   "display_name": "Python 3",
   "language": "python",
   "name": "python3"
  },
  "toc": {
   "base_numbering": 1,
   "nav_menu": {},
   "number_sections": true,
   "sideBar": true,
   "skip_h1_title": false,
   "title_cell": "Table of Contents",
   "title_sidebar": "Contents",
   "toc_cell": false,
   "toc_position": {},
   "toc_section_display": true,
   "toc_window_display": false
  },
  "varInspector": {
   "cols": {
    "lenName": 16,
    "lenType": 16,
    "lenVar": 40
   },
   "kernels_config": {
    "python": {
     "delete_cmd_postfix": "",
     "delete_cmd_prefix": "del ",
     "library": "var_list.py",
     "varRefreshCmd": "print(var_dic_list())"
    },
    "r": {
     "delete_cmd_postfix": ") ",
     "delete_cmd_prefix": "rm(",
     "library": "var_list.r",
     "varRefreshCmd": "cat(var_dic_list()) "
    }
   },
   "types_to_exclude": [
    "module",
    "function",
    "builtin_function_or_method",
    "instance",
    "_Feature"
   ],
   "window_display": false
  },
  "colab": {
   "provenance": [],
   "collapsed_sections": [
    "MnIcbKwqq-w6",
    "-byI3-Jav7q2",
    "XZwdhQ28EFU5",
    "rPpEDlRQR0dP",
    "80p-fNR2q-xK"
   ]
  }
 },
 "nbformat": 4,
 "nbformat_minor": 0
}
