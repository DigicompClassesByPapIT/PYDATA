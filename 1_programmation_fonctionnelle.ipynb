{
 "cells": [
  {
   "cell_type": "markdown",
   "metadata": {},
   "source": [
    "# Programmation fonctionnelle"
   ]
  },
  {
   "cell_type": "markdown",
   "metadata": {},
   "source": [
    "## Expressions lambda et les compréhensions de liste\n",
    "\n",
    "Python est langage orienté objet, tout est objet en Python.\n",
    "Mais, le succès grandissant de la programmation orientée fonctionnelle et la présence de l'instruction dans la plupart des langages modernes ont poussé les développeurs de Python à intégrer des fonctions haut niveau pour manipuler les collections comme `map`.\n",
    "\n",
    "On peut écrire des one liners pour manipuler des collections avec `map` et les compréhensions de liste.\n"
   ]
  },
  {
   "cell_type": "markdown",
   "metadata": {},
   "source": [
    "## Exemple de l'utilisation de fonction lambda avec `map`\n",
    "\n",
    "Les expressions lambda sont des fonctions anonymes, elles sont souvent utilisées avec `map`"
   ]
  },
  {
   "cell_type": "code",
   "execution_count": 5,
   "metadata": {
    "ExecuteTime": {
     "end_time": "2025-06-05T14:35:32.297009Z",
     "start_time": "2025-06-05T14:35:32.293851Z"
    }
   },
   "outputs": [
    {
     "name": "stdout",
     "output_type": "stream",
     "text": [
      "[1, 4, 9, 16]\n",
      "Object  <map object at 0x7bab605487c0> is of type:  <class 'map'>\n",
      "1\n",
      "4\n",
      "9\n",
      "16\n"
     ]
    }
   ],
   "source": [
    "# Exemple de l'utilisation de map\n",
    "# On met au carré chaque élément de la liste\n",
    "numbers = [1, 2, 3, 4]\n",
    "squared_numbers = list(map(lambda x: x ** 2, numbers))\n",
    "print(squared_numbers)\n",
    "# On a besoin de list() map est un objet qui n'affiche pas les valeurs\n",
    "map_squared_numbers = map(lambda x: x ** 2, numbers)\n",
    "print(\"Object \", map_squared_numbers, \"is of type: \", type(map_squared_numbers))\n",
    "# Mais il est itérable\n",
    "for number in map_squared_numbers:\n",
    "    print(number)"
   ]
  },
  {
   "cell_type": "markdown",
   "metadata": {},
   "source": [
    "## Les compréhensions de liste\n",
    "Les compréhensions de list permettent aussi d'écrire des one liners pour manipuler des collections.\n",
    "Mais avec la possibilité de filtrer les éléments."
   ]
  },
  {
   "cell_type": "code",
   "execution_count": 6,
   "metadata": {
    "ExecuteTime": {
     "end_time": "2025-06-05T14:35:32.362131Z",
     "start_time": "2025-06-05T14:35:32.359634Z"
    }
   },
   "outputs": [
    {
     "name": "stdout",
     "output_type": "stream",
     "text": [
      "[1, 4, 9, 16]\n",
      "[2, 4]\n"
     ]
    }
   ],
   "source": [
    "# Exemple de l'utilisation de map\n",
    "# On met au carré chaque élément de la liste\n",
    "numbers = [1, 2, 3, 4]\n",
    "squared_numbers = [x ** 2 for x in numbers]\n",
    "print(squared_numbers)\n",
    "# On peut filtrer les éléments\n",
    "even_numbers = [x for x in numbers if x % 2 == 0]\n",
    "print(even_numbers)"
   ]
  },
  {
   "cell_type": "markdown",
   "metadata": {},
   "source": [
    "Les performances peuvent être meilleures avec `map` mais dans certains cas seulement, il faut voir au cas par cas.\n",
    "Voir le ticket StackOverflow https://stackoverflow.com/questions/1247486/list-comprehension-vs-map."
   ]
  },
  {
   "cell_type": "markdown",
   "metadata": {},
   "source": [
    "## Exercice\n",
    "Transformer la liste suivante pour qu'elle ne contienne que les éléments numeric arrondis à l'entier le plus proche. Et ce, avec une expression lambda et avec une compréhension de liste."
   ]
  },
  {
   "cell_type": "code",
   "execution_count": null,
   "metadata": {},
   "outputs": [],
   "source": [
    "data = [3.1416, \"3 €\", True, \"J'aime le Python\", 2, 3, 6, 88888888.25]"
   ]
  }
 ],
 "metadata": {
  "kernelspec": {
   "display_name": "Python 3 (ipykernel)",
   "language": "python",
   "name": "python3"
  },
  "language_info": {
   "codemirror_mode": {
    "name": "ipython",
    "version": 3
   },
   "file_extension": ".py",
   "mimetype": "text/x-python",
   "name": "python",
   "nbconvert_exporter": "python",
   "pygments_lexer": "ipython3",
   "version": "3.12.3"
  }
 },
 "nbformat": 4,
 "nbformat_minor": 4
}
