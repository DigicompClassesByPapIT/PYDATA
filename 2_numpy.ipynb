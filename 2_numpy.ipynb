{
 "cells": [
  {
   "metadata": {},
   "cell_type": "markdown",
   "source": [
    "# NumPy\n",
    "\n",
    "## Vectorisation\n",
    "\n",
    "La transformation s'applique sur le tableau (`array`) entier, pas sur chaque élément individuellement."
   ],
   "id": "704acbaf8afd7ede"
  },
  {
   "metadata": {
    "ExecuteTime": {
     "end_time": "2025-06-06T08:16:18.330818Z",
     "start_time": "2025-06-06T08:16:18.291167Z"
    }
   },
   "cell_type": "code",
   "source": [
    "import numpy as np\n",
    "\n",
    "# Création d'un tableau NumPy\n",
    "tableau_de_0_a_9 = np.array(range(10))\n",
    "tableau_de_0_a_9 + 1  # On ajoute 1 à chaque élément du tableau par broadcasting"
   ],
   "id": "3e8f5856ccd5653",
   "outputs": [
    {
     "data": {
      "text/plain": [
       "array([ 1,  2,  3,  4,  5,  6,  7,  8,  9, 10])"
      ]
     },
     "execution_count": 7,
     "metadata": {},
     "output_type": "execute_result"
    }
   ],
   "execution_count": 7
  },
  {
   "metadata": {},
   "cell_type": "markdown",
   "source": [
    "## Application d'une transformation sur un tableau NumPy\n",
    "Peut se faire avec une fonction classique ou une fonction lambda\n",
    "### Fonction classique"
   ],
   "id": "f85302dea9cfcae6"
  },
  {
   "metadata": {
    "ExecuteTime": {
     "end_time": "2025-06-06T08:16:22.928814Z",
     "start_time": "2025-06-06T08:16:22.924924Z"
    }
   },
   "cell_type": "code",
   "source": [
    "def is_prime(n: int) -> bool:\n",
    "    \"\"\"Retourne True si n est un nombre premier, False sinon.\"\"\"\n",
    "    if n < 2:\n",
    "        return False\n",
    "    for i in range(2, int(n ** 0.5) + 1):\n",
    "        if n % i == 0:\n",
    "            return False\n",
    "    return True\n",
    "\n",
    "\n",
    "# Vectorisation de la fonction is_prime\n",
    "is_prime_vectorized = np.vectorize(is_prime)\n",
    "# Application de la fonction vectorisée sur le tableau\n",
    "is_prime_vectorized(tableau_de_0_a_9)"
   ],
   "id": "a02e918b9ca24547",
   "outputs": [
    {
     "data": {
      "text/plain": [
       "array([False, False,  True,  True, False,  True, False,  True, False,\n",
       "       False])"
      ]
     },
     "execution_count": 8,
     "metadata": {},
     "output_type": "execute_result"
    }
   ],
   "execution_count": 8
  },
  {
   "metadata": {},
   "cell_type": "markdown",
   "source": "#### Fonction lambda",
   "id": "3721310824a5fbf8"
  },
  {
   "metadata": {
    "ExecuteTime": {
     "end_time": "2025-06-06T08:17:16.338101Z",
     "start_time": "2025-06-06T08:17:16.334878Z"
    }
   },
   "cell_type": "code",
   "source": [
    "cube = lambda x: x ** 3\n",
    "# Vectorisation de la fonction cube\n",
    "cube_vectorized = np.vectorize(cube)\n",
    "# Application de la fonction vectorisée sur le tableau\n",
    "cube_vectorized(tableau_de_0_a_9)"
   ],
   "id": "58cefb639b621243",
   "outputs": [
    {
     "data": {
      "text/plain": [
       "array([  0,   1,   8,  27,  64, 125, 216, 343, 512, 729])"
      ]
     },
     "execution_count": 9,
     "metadata": {},
     "output_type": "execute_result"
    }
   ],
   "execution_count": 9
  },
  {
   "metadata": {},
   "cell_type": "markdown",
   "source": [
    "# Indexation et slicing\n",
    "\n",
    "Les tableaux NumPy sont indexés de la même manière que les listes Python, mais ils offrent des fonctionnalités supplémentaires pour le slicing et l'indexation avancée."
   ],
   "id": "e4ae32d093fb3a78"
  },
  {
   "metadata": {
    "ExecuteTime": {
     "end_time": "2025-06-06T08:27:40.180726Z",
     "start_time": "2025-06-06T08:27:40.177060Z"
    }
   },
   "cell_type": "code",
   "source": [
    "# Le premier élément du tableau\n",
    "print(\"Le premier élément du tableau \", tableau_de_0_a_9[0])\n",
    "# Le dernier élément du tableau\n",
    "print(\"Le dernier élément du tableau \", tableau_de_0_a_9[-1])\n",
    "# Un sous-tableau avec les 3 premiers éléments\n",
    "print(\"Les 3 premiers éléments du tableau \", tableau_de_0_a_9[0:3])\n",
    "# ou\n",
    "print(\"Les 3 premiers éléments du tableau \", tableau_de_0_a_9[:3])\n",
    "# Indexation booléenne\n",
    "print(\"Les éléments pairs du tableau \", tableau_de_0_a_9[tableau_de_0_a_9 % 2 == 0])\n",
    "# Indexation avec une liste d'indices\n",
    "indices = [0, 2, 4, 6, 8]\n",
    "print(\"Les éléments aux indices \", indices, \" du tableau \", tableau_de_0_a_9[indices])\n",
    "# Indexation avec une liste de booléens appelée masque booléen\n",
    "bool_mask = [True, False, True, False, True, False, True, False, True, False]\n",
    "print(\"Les éléments du tableau avec la masque booléen \", bool_mask, \" sont \", tableau_de_0_a_9[bool_mask])"
   ],
   "id": "75642159945f6c99",
   "outputs": [
    {
     "name": "stdout",
     "output_type": "stream",
     "text": [
      "Le premier élément du tableau  0\n",
      "Le dernier élément du tableau  9\n",
      "Les 3 premiers éléments du tableau  [0 1 2]\n",
      "Les 3 premiers éléments du tableau  [0 1 2]\n",
      "Les éléments pairs du tableau  [0 2 4 6 8]\n",
      "Les éléments aux indices  [0, 2, 4, 6, 8]  du tableau  [0 2 4 6 8]\n",
      "Les éléments du tableau avec la masque booléen  [True, False, True, False, True, False, True, False, True, False]  sont  [0 2 4 6 8]\n"
     ]
    }
   ],
   "execution_count": 22
  },
  {
   "metadata": {},
   "cell_type": "markdown",
   "source": [
    "## Les fonctions d'agrégations\n",
    "\n",
    "Les fonctions d'agrégations sont utilisées pour réduire un tableau à une seule valeur en appliquant une fonction comme la somme, la médiane, moyenne, *etc*."
   ],
   "id": "61c1268d2460542e"
  },
  {
   "metadata": {
    "ExecuteTime": {
     "end_time": "2025-06-06T08:34:07.322874Z",
     "start_time": "2025-06-06T08:34:07.313761Z"
    }
   },
   "cell_type": "code",
   "source": [
    "print(\"La somme des éléments du tableau \", tableau_de_0_a_9.sum())\n",
    "print(\"La moyenne des éléments du tableau \", tableau_de_0_a_9.mean())\n",
    "print(\"La médiane des éléments du tableau \", np.median(tableau_de_0_a_9))\n",
    "print(\"Le maximum des éléments du tableau \", tableau_de_0_a_9.max())"
   ],
   "id": "9fa586ff3fe89de9",
   "outputs": [
    {
     "name": "stdout",
     "output_type": "stream",
     "text": [
      "La somme des éléments du tableau  45\n",
      "La moyenne des éléments du tableau  4.5\n",
      "La médiane des éléments du tableau  4.5\n",
      "Le maximum des éléments du tableau  9\n"
     ]
    }
   ],
   "execution_count": 26
  },
  {
   "metadata": {},
   "cell_type": "markdown",
   "source": [
    "## Exercice\n",
    "\n",
    "### Étude des températures à Bern\n",
    "\n",
    "Avec toutes les mesures de température de l'année 2025 à Bern, présente dans le fichier `2025-06-06-ittigen papiermühle kreisel-2025.csv`, trouver la température moyenne, la température maximale et la température minimale.\n",
    "\n",
    "### Étude de la végétalisation de Bern\n",
    "\n",
    "Une image, comme une image satellite, peut être convertie en tableau NumPy. C'est un tableau à deux dimensions où la première est un pixel et la seconde est la valeur de chaque canal de couleur RGB (rouge, vert, bleu) donc un tableau de 3 de long. Sachant qu'un pixel vert, assimilé à une surface végétale, peut être considéré comme de valeur comprise entre 100 et 255 pour le canal vert, et de valeur inférieure à 100 pour les canaux rouge et bleu, écrire le code qui permet de calculer le pourcentage d'espace végétalisé à Bern depuis l'image satellite `satellite-bern.png`.\n",
    "Vérifier l'extraction des pixels verts en reconstituant uniquement avec ces derniers pixels (**Indice**: Il est plus simple d'utiliser la fonction `np.zeros_like` voir https://numpy.org/doc/2.2/reference/generated/numpy.zeros_like.html."
   ],
   "id": "9b10e3954805e8d5"
  }
 ],
 "metadata": {
  "kernelspec": {
   "display_name": "Python 3",
   "language": "python",
   "name": "python3"
  },
  "language_info": {
   "codemirror_mode": {
    "name": "ipython",
    "version": 2
   },
   "file_extension": ".py",
   "mimetype": "text/x-python",
   "name": "python",
   "nbconvert_exporter": "python",
   "pygments_lexer": "ipython2",
   "version": "2.7.6"
  }
 },
 "nbformat": 4,
 "nbformat_minor": 5
}
